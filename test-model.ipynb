{
 "cells": [
  {
   "cell_type": "code",
   "execution_count": 1,
   "id": "21f4a91f-fd4b-4e52-a702-6b4f52e1e315",
   "metadata": {},
   "outputs": [],
   "source": [
    "from tensorflow import keras\n",
    "from PIL import Image\n",
    "import numpy as np\n",
    "import matplotlib.pyplot as plt"
   ]
  },
  {
   "cell_type": "code",
   "execution_count": 2,
   "id": "cf94508f-4093-4d7f-bcc9-ff631b2fd49b",
   "metadata": {},
   "outputs": [],
   "source": [
    "# Cargar el modelo entrenado\n",
    "model = keras.models.load_model('mnist_model.keras')"
   ]
  },
  {
   "cell_type": "code",
   "execution_count": 3,
   "id": "b89b2f4e-2eaa-4cff-acb7-e4ac539e27f3",
   "metadata": {},
   "outputs": [],
   "source": [
    "# Cargar una imagen desde un archivo\n",
    "img_path = 'test8.jpg'  # Reemplaza con la ruta de tu imagen\n",
    "img = Image.open(img_path).convert('L')  # Convertir a escala de grises\n",
    "\n",
    "# Load the MNIST dataset from TensorFlow\n",
    "# mnist = keras.datasets.mnist\n",
    "# (X_train, y_train), (X_test, y_test) = mnist.load_data()\n",
    "# img = X_train[20]\n",
    "\n",
    "# Redimensionar la imagen a 28x28 píxeles (tamaño del MNIST)\n",
    "img = img.resize((28, 28))\n",
    "\n",
    "# Convertir la imagen a un array de numpy\n",
    "img_array = np.array(img)\n",
    "\n",
    "# Invertir colores si se necesita\n",
    "img_array = 255 - img_array\n",
    "\n",
    "# Normalizar la imagen (dividir entre 255 para que los valores estén entre 0 y 1)\n",
    "img_array = img_array / 255.0\n",
    "\n",
    "# Redimensionar para agregar una dimensión extra, necesario para la entrada del modelo (28, 28, 1)\n",
    "img_array = img_array.reshape(1, 28, 28, 1)\n",
    "\n"
   ]
  },
  {
   "cell_type": "code",
   "execution_count": 4,
   "id": "1d3f05a6-4502-44de-91af-68364b8b7768",
   "metadata": {},
   "outputs": [
    {
     "name": "stdout",
     "output_type": "stream",
     "text": [
      "\u001b[1m1/1\u001b[0m \u001b[32m━━━━━━━━━━━━━━━━━━━━\u001b[0m\u001b[37m\u001b[0m \u001b[1m0s\u001b[0m 72ms/step\n",
      "Predicción: [[0. 0. 0. 1. 0. 0. 0. 0. 0. 0.]]\n",
      "Predicción: 3\n"
     ]
    }
   ],
   "source": [
    "# Hacer la predicción\n",
    "prediction = model.predict(img_array)\n",
    "\n",
    "print(f\"Predicción: {prediction}\")\n",
    "\n",
    "# Obtener el dígito con la mayor probabilidad (índice con el valor máximo)\n",
    "predicted_label = np.argmax(prediction)\n",
    "\n",
    "print(f\"Predicción: {predicted_label}\")"
   ]
  },
  {
   "cell_type": "code",
   "execution_count": 5,
   "id": "4099b3d4-81f5-45f5-98dc-b01c68120361",
   "metadata": {},
   "outputs": [
    {
     "data": {
      "image/png": "[encoded data removed]",
      "text/plain": [
       "<Figure size 640x480 with 1 Axes>"
      ]
     },
     "metadata": {},
     "output_type": "display_data"
    }
   ],
   "source": [
    "# Mostrar la imagen\n",
    "plt.imshow(img_array.reshape(28, 28), cmap='gray')\n",
    "plt.title(f\"Predicción: {predicted_label}\")\n",
    "plt.show()"
   ]
  },
  {
   "cell_type": "code",
   "execution_count": null,
   "id": "b0aa5c5b-07d3-493b-a4f2-d8964c2af941",
   "metadata": {},
   "outputs": [],
   "source": [
    "    "
   ]
  }
 ],
 "metadata": {
  "kernelspec": {
   "display_name": "Python 3 (ipykernel)",
   "language": "python",
   "name": "python3"
  },
  "language_info": {
   "codemirror_mode": {
    "name": "ipython",
    "version": 3
   },
   "file_extension": ".py",
   "mimetype": "text/x-python",
   "name": "python",
   "nbconvert_exporter": "python",
   "pygments_lexer": "ipython3",
   "version": "3.12.7"
  }
 },
 "nbformat": 4,
 "nbformat_minor": 5
}
